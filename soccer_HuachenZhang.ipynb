{
 "cells": [
  {
   "cell_type": "code",
   "execution_count": null,
   "metadata": {},
   "outputs": [],
   "source": [
    "# By Huachen Zhang from T06, IOP, CAS"
   ]
  },
  {
   "cell_type": "code",
   "execution_count": 1,
   "metadata": {},
   "outputs": [
    {
     "data": {
      "text/plain": [
       "ncon_check_inputs"
      ]
     },
     "execution_count": 1,
     "metadata": {},
     "output_type": "execute_result"
    }
   ],
   "source": [
    "using LinearAlgebra\n",
    "include(\"ncon.jl\") # The Network Contraction program by Glen Evenbly at Georgia Institute of Technology. If you want to run my program, please place this file in the working directory!"
   ]
  },
  {
   "cell_type": "code",
   "execution_count": 4,
   "metadata": {},
   "outputs": [
    {
     "name": "stdout",
     "output_type": "stream",
     "text": [
      "-1.3073684577607936\n"
     ]
    }
   ],
   "source": [
    "# 1. The free energy density of an AFM Ising model defined on a C60 molecule. The magnitude of coupling constant and temperature are both set to unity.\n",
    "\n",
    "eye3 = zeros(2, 2, 2); # The \"unity tensor\" of order 3 (the generalisation of identity matrix) for \"star\" contraction in the initialisation of the tensor network.\n",
    "for i in 1:2\n",
    "    for j in 1:2\n",
    "        for k in 1:2\n",
    "            if i == j && j == k\n",
    "                eye3[i, j, k] = 1;\n",
    "            end\n",
    "        end\n",
    "    end\n",
    "end\n",
    "\n",
    "function GetTensor(beta) # Initialisation of the tensor network; beta is the inverse temperature.\n",
    "    W = [exp(-beta) exp(beta); exp(beta) exp(-beta)]; # Boltzmann weight on the bonds, AFM Ising\n",
    "    F = eigen(W);\n",
    "    M = (sqrt(Diagonal(F.values + [0.0im, 0])))*(F.vectors);\n",
    "    T3 = ncon(Any[eye3, M, M, M], Any[[1, 2, 3], [-1, 1], [-2, 2], [-3, 3]]);\n",
    "    return T3\n",
    "end\n",
    "\n",
    "T3 = GetTensor(1); # beta = 1\n",
    "T5 = ncon(Any[T3, T3, T3, T3, T3], Any[[-1, 1, 2], [-2, 3, 1], [-3, 4, 3], [-4, 5, 4], [-5, 2, 5]]); # The contraction of the five order-3 tensors around one pentagon.\n",
    "T10 = ncon(Any[T5, T5, T5, T5, T5, T5], Any[[1, 2, 3, 4, 5], [1, 6, -1, -2, 7], [2, 7, -3, -4, 8], [3, 8, -5, -6, 9], [4, 9, -7, -8, 10], [5, 10, -9, -10, 6]]); # The order-10 tensor from the contraction of six order-5 tensors.\n",
    "Z = real(ncon(Any[T10, T10], Any[[1, 2, 3, 4, 5, 6, 7, 8, 9, 10], [10, 1, 2, 3, 4, 5, 6, 7, 8, 9]])); # The exact contraction of all tensors gives the partition function of the model.\n",
    "FEnergy_density = (-log(Z))/60;\n",
    "println(FEnergy_density)"
   ]
  },
  {
   "cell_type": "code",
   "execution_count": 5,
   "metadata": {},
   "outputs": [
    {
     "name": "stdout",
     "output_type": "stream",
     "text": [
      "16000.0\n"
     ]
    }
   ],
   "source": [
    "# 2. The degeneracy of the (classical) ground state.\n",
    "# I solve this problem by mapping it to the contraction of a tensor network exactly.\n",
    "# Another way of (approximately) calculating the degeneracy of the ground state is given by my collaborator Song Sun from T03, IOP, CAS.\n",
    "# Yet another way is the automatic differentiation of the free energy with respect to temperature. We do not have enough time to do this.\n",
    "\n",
    "# There are 90 bonds in total. In the ground states, the spin configuration around each pentagon has 10 possibilities (since it is frustrated);\n",
    "# and there is an additional restriction that the 30 bonds solely within hexagonals must have opposite spins on their ends.\n",
    "\n",
    "T = zeros(2, 2, 2, 2, 2);\n",
    "# The non-zero elements of the order-5 tensor correspond to the 10 possible spin configurations around one pentagon.\n",
    "for i in 1:2\n",
    "    for j in 1:2\n",
    "        for k in 1:2\n",
    "            for l in 1:2\n",
    "                for m in 1:2\n",
    "                    if (([i j k l m] == [2 1 2 1 1])||([i j k l m] == [2 1 1 2 1])||([i j k l m] == [1 2 1 1 2])||([i j k l m] == [1 1 2 1 2])||([i j k l m] == [1 2 1 2 1])||([i j k l m] == [1 2 1 2 2])||([i j k l m] == [1 2 2 1 2])||([i j k l m] == [2 1 2 2 1])||([i j k l m] == [2 2 1 2 1])||([i j k l m] == [2 1 2 1 2]))\n",
    "                        T[i, j, k, l, m] = 1;\n",
    "                    end\n",
    "                end\n",
    "            end\n",
    "        end\n",
    "    end\n",
    "end\n",
    "\n",
    "X = [0 1; 1 0]; # The spin-flip matrix used in the imposition of the additional restriction mentioned above.\n",
    "\n",
    "# The contraction of the \"upper half\" of the system.\n",
    "Tu = ncon(Any[T, X, X, X, X, X, T, X, X, X, X, T, X, X, X, T, X, X, X, T, X, X, X, T, X, X], Any[[1, 2, 3, 4, 5], [1, 6], [2, 7], [3, 8], [4, 9], [5, 10], [6, 11, 21, 22, 12], [20, 11], [21, -1], [22, -2], [12, 13], [7, 13, 23, 24, 14], [23, -3], [24, -4], [14, 15], [8, 15, 25, 26, 16], [25, -5], [26, -6], [16, 17], [9, 17, 27, 28, 18], [27, -7], [28, -8], [18, 19], [10, 19, 29, 30, 20], [29, -9], [30, -10]]);\n",
    "# The contraction of the \"lower half\" of the system.\n",
    "Td = ncon(Any[T, X, X, X, X, X, T, X, X, T, X, T, X, T, X, T], Any[[1, 2, 3, 4, 5], [1, 6], [2, 7], [3, 8], [4, 9], [5, 10], [6, 11, -1, -2, 12], [20, 11], [12, 13], [7, 13, -3, -4, 14], [14, 15], [8, 15, -5, -6, 16], [16, 17], [9, 17, -7, -8, 18], [18, 19], [10, 19, -9, -10, 20]]);\n",
    "# Finally,\n",
    "Degeneracy = ncon(Any[Tu, Td], Any[[1, 2, 3, 4, 5, 6, 7, 8, 9, 10], [10, 1, 2, 3, 4, 5, 6, 7, 8, 9]]);\n",
    "println(Degeneracy)"
   ]
  },
  {
   "cell_type": "code",
   "execution_count": null,
   "metadata": {},
   "outputs": [],
   "source": []
  }
 ],
 "metadata": {
  "kernelspec": {
   "display_name": "Julia 1.1.0",
   "language": "julia",
   "name": "julia-1.1"
  },
  "language_info": {
   "file_extension": ".jl",
   "mimetype": "application/julia",
   "name": "julia",
   "version": "1.1.0"
  }
 },
 "nbformat": 4,
 "nbformat_minor": 2
}
